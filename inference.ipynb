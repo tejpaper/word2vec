{
 "cells": [
  {
   "cell_type": "code",
   "outputs": [],
   "source": [
    "from word2vec import *\n",
    "\n",
    "import os\n",
    "\n",
    "import torch\n",
    "from sklearn.cluster import HDBSCAN\n",
    "\n",
    "import seaborn as sns\n",
    "import matplotlib.pyplot as plt"
   ],
   "metadata": {
    "collapsed": true,
    "ExecuteTime": {
     "end_time": "2024-03-18T19:39:13.047732Z",
     "start_time": "2024-03-18T19:39:10.566733Z"
    }
   },
   "id": "initial_id",
   "execution_count": 1
  },
  {
   "cell_type": "code",
   "outputs": [],
   "source": [
    "sns.set_style('white')"
   ],
   "metadata": {
    "collapsed": false,
    "ExecuteTime": {
     "end_time": "2024-03-18T19:39:13.052919Z",
     "start_time": "2024-03-18T19:39:13.049292Z"
    }
   },
   "id": "6ad9f4cda1578c8",
   "execution_count": 2
  },
  {
   "cell_type": "code",
   "outputs": [],
   "source": [
    "word2vec = torch.load('word2vec.pth', map_location=DEVICE)"
   ],
   "metadata": {
    "collapsed": false,
    "ExecuteTime": {
     "end_time": "2024-03-18T19:39:13.268334Z",
     "start_time": "2024-03-18T19:39:13.054996Z"
    }
   },
   "id": "d815acf20c21ca27",
   "execution_count": 3
  },
  {
   "cell_type": "markdown",
   "source": [
    "# Results"
   ],
   "metadata": {
    "collapsed": false
   },
   "id": "5e5d4ade8bf3372c"
  },
  {
   "cell_type": "code",
   "outputs": [],
   "source": [
    "with open(TEST_FILE) as file:\n",
    "    test_samples = [\n",
    "        line for line in map(lambda t: t.split(), file.readlines())\n",
    "        if all(map(lambda word: word in word2vec.vocabulary, line))\n",
    "    ]"
   ],
   "metadata": {
    "collapsed": false,
    "ExecuteTime": {
     "end_time": "2024-03-18T19:39:13.336747Z",
     "start_time": "2024-03-18T19:39:13.269591Z"
    }
   },
   "id": "846b61012875e7ce",
   "execution_count": 4
  },
  {
   "cell_type": "code",
   "outputs": [
    {
     "data": {
      "text/plain": "0.04370034052213394"
     },
     "execution_count": 5,
     "metadata": {},
     "output_type": "execute_result"
    }
   ],
   "source": [
    "top5_accuracy, _ = test(word2vec, test_samples)\n",
    "top5_accuracy"
   ],
   "metadata": {
    "collapsed": false,
    "ExecuteTime": {
     "end_time": "2024-03-18T19:39:16.571500Z",
     "start_time": "2024-03-18T19:39:13.338147Z"
    }
   },
   "id": "327854a8e5a7ea4d",
   "execution_count": 5
  },
  {
   "cell_type": "markdown",
   "source": [
    "# Clustering"
   ],
   "metadata": {
    "collapsed": false
   },
   "id": "3ae71911e09ba11d"
  },
  {
   "cell_type": "code",
   "outputs": [],
   "source": [
    "norms = torch.linalg.vector_norm(word2vec.weight, dim=1)\n",
    "dist_matrix = 1 - torch.mm(word2vec.weight, word2vec.weight.T) / torch.outer(norms, norms)"
   ],
   "metadata": {
    "collapsed": false,
    "ExecuteTime": {
     "end_time": "2024-03-18T19:39:16.625125Z",
     "start_time": "2024-03-18T19:39:16.572959Z"
    }
   },
   "id": "2a10e0f546a3a973",
   "execution_count": 6
  },
  {
   "cell_type": "code",
   "outputs": [],
   "source": [
    "clustering = HDBSCAN(min_cluster_size=4,\n",
    "                     min_samples=1,\n",
    "                     cluster_selection_epsilon=0.2,\n",
    "                     max_cluster_size=600,\n",
    "                     metric='precomputed').fit(dist_matrix.cpu())"
   ],
   "metadata": {
    "collapsed": false,
    "ExecuteTime": {
     "end_time": "2024-03-18T19:39:17.108616Z",
     "start_time": "2024-03-18T19:39:16.626050Z"
    }
   },
   "id": "4faa2a7a284af43b",
   "execution_count": 7
  },
  {
   "cell_type": "code",
   "outputs": [],
   "source": [
    "labels = sorted(set(clustering.labels_))\n",
    "palette = dict(zip(labels, ['white'] + sns.color_palette('husl', len(labels) - 1).as_hex()))\n",
    "colors_mapping = {word: palette[label] for word, label in zip(word2vec.vocabulary.get_itos(), clustering.labels_)}"
   ],
   "metadata": {
    "collapsed": false,
    "ExecuteTime": {
     "end_time": "2024-03-18T19:39:17.121082Z",
     "start_time": "2024-03-18T19:39:17.109727Z"
    }
   },
   "id": "8238c9b72be10e9e",
   "execution_count": 8
  },
  {
   "cell_type": "code",
   "outputs": [],
   "source": [
    "tsne_viz, _ = tsne(word2vec, colors_mapping=colors_mapping)\n",
    "tsne_viz.savefig(os.path.join(EXTRA_DIR, 'cloud.svg'))"
   ],
   "metadata": {
    "collapsed": false,
    "ExecuteTime": {
     "end_time": "2024-03-18T19:39:35.861597Z",
     "start_time": "2024-03-18T19:39:17.122469Z"
    }
   },
   "id": "e7c6d763d2e559e",
   "execution_count": 9
  },
  {
   "cell_type": "markdown",
   "source": [
    "# Playground"
   ],
   "metadata": {
    "collapsed": false
   },
   "id": "7337ea87cd84495f"
  },
  {
   "cell_type": "code",
   "outputs": [
    {
     "data": {
      "text/plain": "(['one', '1', 'version', 'ones', 'unit'],\n tensor([1.0000, 0.5466, 0.4214, 0.4150, 0.3797], device='cuda:0'))"
     },
     "execution_count": 10,
     "metadata": {},
     "output_type": "execute_result"
    }
   ],
   "source": [
    "word2vec.nearest(word2vec('one'), 5)[0::2]"
   ],
   "metadata": {
    "collapsed": false,
    "ExecuteTime": {
     "end_time": "2024-03-18T19:39:35.956567Z",
     "start_time": "2024-03-18T19:39:35.863047Z"
    }
   },
   "id": "4b8049181f039c5a",
   "execution_count": 10
  },
  {
   "cell_type": "code",
   "outputs": [
    {
     "data": {
      "text/plain": "(['mom', 'girlfriend', 'mother', 'sister', 'wife'],\n tensor([1.0000, 0.8124, 0.8102, 0.7857, 0.7845], device='cuda:0'))"
     },
     "execution_count": 11,
     "metadata": {},
     "output_type": "execute_result"
    }
   ],
   "source": [
    "word2vec.nearest(word2vec('mom'), 5)[0::2]"
   ],
   "metadata": {
    "collapsed": false,
    "ExecuteTime": {
     "end_time": "2024-03-18T19:39:35.964792Z",
     "start_time": "2024-03-18T19:39:35.957826Z"
    }
   },
   "id": "373a37a292d4d1e1",
   "execution_count": 11
  },
  {
   "cell_type": "code",
   "outputs": [
    {
     "data": {
      "text/plain": "(['dad', 'boyfriend', 'fiance', 'nephew', 'husband'],\n tensor([1.0000, 0.8766, 0.8614, 0.8599, 0.8499], device='cuda:0'))"
     },
     "execution_count": 12,
     "metadata": {},
     "output_type": "execute_result"
    }
   ],
   "source": [
    "word2vec.nearest(word2vec('dad'), 5)[0::2]"
   ],
   "metadata": {
    "collapsed": false,
    "ExecuteTime": {
     "end_time": "2024-03-18T19:39:35.978418Z",
     "start_time": "2024-03-18T19:39:35.967329Z"
    }
   },
   "id": "e2bc94652b692760",
   "execution_count": 12
  },
  {
   "cell_type": "code",
   "outputs": [],
   "source": [
    "samples = (\n",
    "    *word2vec.nearest(word2vec('love'), 2)[0], \n",
    "    *word2vec.nearest(word2vec('trash'), 2)[0],\n",
    "    *word2vec.nearest(word2vec('black'), 2)[0],\n",
    ")"
   ],
   "metadata": {
    "collapsed": false,
    "ExecuteTime": {
     "end_time": "2024-03-18T19:39:35.986224Z",
     "start_time": "2024-03-18T19:39:35.980419Z"
    }
   },
   "id": "df0e80f6f5667f95",
   "execution_count": 13
  },
  {
   "cell_type": "code",
   "outputs": [],
   "source": [
    "vectors = word2vec(samples)\n",
    "norms = torch.linalg.vector_norm(vectors, dim=1)\n",
    "similarity_matrix = torch.mm(vectors, vectors.T) / torch.outer(norms, norms)"
   ],
   "metadata": {
    "collapsed": false,
    "ExecuteTime": {
     "end_time": "2024-03-18T19:39:36.013630Z",
     "start_time": "2024-03-18T19:39:35.987179Z"
    }
   },
   "id": "fd92bba175271ec5",
   "execution_count": 14
  },
  {
   "cell_type": "code",
   "outputs": [
    {
     "data": {
      "text/plain": "<Figure size 800x600 with 2 Axes>",
      "image/png": "[encoded data removed]"
     },
     "metadata": {},
     "output_type": "display_data"
    }
   ],
   "source": [
    "_, ax = plt.subplots(figsize=(8, 6))\n",
    "\n",
    "sns.heatmap(\n",
    "    data=similarity_matrix.cpu(),\n",
    "    square=True,\n",
    "    annot=True,\n",
    "    fmt='.02f',\n",
    "    cmap=sns.cm.rocket_r,\n",
    "    ax=ax,\n",
    ")\n",
    "\n",
    "ax.set_xticklabels(samples)\n",
    "ax.set_yticklabels(samples, rotation=0)\n",
    "_ = ax.set_title('Cosine similarity')"
   ],
   "metadata": {
    "collapsed": false,
    "ExecuteTime": {
     "end_time": "2024-03-18T19:39:36.309504Z",
     "start_time": "2024-03-18T19:39:36.015535Z"
    }
   },
   "id": "4456a3d05ddfcf77",
   "execution_count": 15
  }
 ],
 "metadata": {
  "kernelspec": {
   "display_name": "Python 3",
   "language": "python",
   "name": "python3"
  },
  "language_info": {
   "codemirror_mode": {
    "name": "ipython",
    "version": 2
   },
   "file_extension": ".py",
   "mimetype": "text/x-python",
   "name": "python",
   "nbconvert_exporter": "python",
   "pygments_lexer": "ipython2",
   "version": "2.7.6"
  }
 },
 "nbformat": 4,
 "nbformat_minor": 5
}
